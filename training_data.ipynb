{
 "cells": [
  {
   "cell_type": "markdown",
   "metadata": {},
   "source": [
    "## Generate training data"
   ]
  },
  {
   "cell_type": "code",
   "execution_count": 14,
   "metadata": {},
   "outputs": [],
   "source": [
    "import pandas as pd\n",
    "import os\n",
    "from sklearn.model_selection import train_test_split"
   ]
  },
  {
   "cell_type": "code",
   "execution_count": null,
   "metadata": {},
   "outputs": [],
   "source": [
    "def generate_addition_operations(n):\n",
    "    data = []\n",
    "\n",
    "    for i in range(n + 1):\n",
    "        for j in range(n + 1):\n",
    "            operation = f\"{i} + {j}\"\n",
    "            result = i + j\n",
    "            data.append([operation, result])\n",
    "\n",
    "    df = pd.DataFrame(data, columns=[\"Operation\", \"Result\"])\n",
    "\n",
    "    return df"
   ]
  },
  {
   "cell_type": "code",
   "execution_count": null,
   "metadata": {},
   "outputs": [],
   "source": [
    "n = 1000\n",
    "df = generate_addition_operations(n)"
   ]
  },
  {
   "cell_type": "code",
   "execution_count": null,
   "metadata": {},
   "outputs": [
    {
     "name": "stdout",
     "output_type": "stream",
     "text": [
      "Training CSV file saved to training_data\\addition_operations_train.csv\n",
      "Evaluation CSV file saved to training_data\\addition_operations_eval.csv\n"
     ]
    }
   ],
   "source": [
    "train_df, eval_df = train_test_split(df, test_size=0.2, random_state=42)\n",
    "\n",
    "os.makedirs(\"training_data\", exist_ok=True)\n",
    "\n",
    "train_csv_path = os.path.join(\"training_data\", \"addition_operations_train.csv\")\n",
    "eval_csv_path = os.path.join(\"training_data\", \"addition_operations_eval.csv\")\n",
    "train_df.to_csv(train_csv_path, index=False)\n",
    "eval_df.to_csv(eval_csv_path, index=False)\n",
    "\n",
    "print(f\"Training CSV file saved to {train_csv_path}\")\n",
    "print(f\"Evaluation CSV file saved to {eval_csv_path}\")"
   ]
  }
 ],
 "metadata": {
  "kernelspec": {
   "display_name": "Python 3",
   "language": "python",
   "name": "python3"
  },
  "language_info": {
   "codemirror_mode": {
    "name": "ipython",
    "version": 3
   },
   "file_extension": ".py",
   "mimetype": "text/x-python",
   "name": "python",
   "nbconvert_exporter": "python",
   "pygments_lexer": "ipython3",
   "version": "3.12.7"
  }
 },
 "nbformat": 4,
 "nbformat_minor": 2
}
